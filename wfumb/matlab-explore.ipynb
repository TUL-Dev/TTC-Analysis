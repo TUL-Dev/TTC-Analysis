{
 "cells": [
  {
   "cell_type": "code",
   "execution_count": 2,
   "id": "ef9fbbf4",
   "metadata": {},
   "outputs": [],
   "source": [
    "from scipy.io import loadmat\n",
    "\n",
    "path = '/Volumes/TOSHIBA EXT/Animal Data/Paramaps/AllDataMarch4.mat'"
   ]
  },
  {
   "cell_type": "code",
   "execution_count": 3,
   "id": "2b9c6a71",
   "metadata": {},
   "outputs": [],
   "source": [
    "data = loadmat(path)"
   ]
  },
  {
   "cell_type": "code",
   "execution_count": 6,
   "id": "85e0e472",
   "metadata": {},
   "outputs": [
    {
     "data": {
      "text/plain": [
       "dict_keys(['__header__', '__version__', '__globals__', 'CTMolecularAV', 'CTMolecularCTRL', 'Feature', 'LSMolecularAV', 'LSMolecularCTRL', 'Map', 'Para', 'Rep'])"
      ]
     },
     "execution_count": 6,
     "metadata": {},
     "output_type": "execute_result"
    }
   ],
   "source": [
    "data.keys()"
   ]
  },
  {
   "cell_type": "code",
   "execution_count": 30,
   "id": "b7436833",
   "metadata": {},
   "outputs": [
    {
     "data": {
      "text/plain": [
       "array(['m270d20150319'], dtype='<U13')"
      ]
     },
     "execution_count": 30,
     "metadata": {},
     "output_type": "execute_result"
    }
   ],
   "source": [
    "data['LSMolecularAV'][0][0][0]"
   ]
  }
 ],
 "metadata": {
  "kernelspec": {
   "display_name": "QuantUS-env",
   "language": "python",
   "name": "python3"
  },
  "language_info": {
   "codemirror_mode": {
    "name": "ipython",
    "version": 3
   },
   "file_extension": ".py",
   "mimetype": "text/x-python",
   "name": "python",
   "nbconvert_exporter": "python",
   "pygments_lexer": "ipython3",
   "version": "3.11.6"
  }
 },
 "nbformat": 4,
 "nbformat_minor": 5
}
