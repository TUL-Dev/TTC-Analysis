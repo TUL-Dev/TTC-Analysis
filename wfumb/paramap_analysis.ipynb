{
 "cells": [
  {
   "cell_type": "code",
   "execution_count": 4,
   "id": "9d876fd3",
   "metadata": {},
   "outputs": [],
   "source": [
    "import gc\n",
    "from pathlib import Path\n",
    "\n",
    "import numpy as np\n",
    "import nibabel as nib\n",
    "import SimpleITK as sitk\n",
    "import matplotlib.pyplot as plt\n",
    "from tqdm import tqdm\n",
    "from radiomics import featureextractor\n",
    "from scipy.ndimage import binary_fill_holes"
   ]
  },
  {
   "cell_type": "code",
   "execution_count": 5,
   "id": "f78a1ed1",
   "metadata": {},
   "outputs": [],
   "source": [
    "params = \"../params.yml\"\n",
    "extractor = featureextractor.RadiomicsFeatureExtractor(params)"
   ]
  },
  {
   "cell_type": "code",
   "execution_count": 6,
   "id": "c9e689d1",
   "metadata": {},
   "outputs": [],
   "source": [
    "bolus_path = Path('/Volumes/TOSHIBA EXT/Animal Data/Bolus')\n",
    "molecular_path = Path('/Volumes/TOSHIBA EXT/Animal Data/Paramaps')"
   ]
  },
  {
   "cell_type": "code",
   "execution_count": 7,
   "id": "735397af",
   "metadata": {},
   "outputs": [],
   "source": [
    "bolus_mice = []\n",
    "for mouse in bolus_path.iterdir():\n",
    "    if mouse.is_dir():\n",
    "        bolus_mice.append(mouse.name)\n",
    "\n",
    "molecular_mice = []\n",
    "for folder in molecular_path.iterdir():\n",
    "    if folder.is_dir():\n",
    "        for mouse in folder.iterdir():\n",
    "            if mouse.name.startswith(\"m\"):\n",
    "                molecular_mice.append(mouse.name[:4])\n",
    "molecular_mice = list(set(molecular_mice))"
   ]
  },
  {
   "cell_type": "code",
   "execution_count": 8,
   "id": "902bb333",
   "metadata": {},
   "outputs": [
    {
     "data": {
      "text/plain": [
       "28"
      ]
     },
     "execution_count": 8,
     "metadata": {},
     "output_type": "execute_result"
    }
   ],
   "source": [
    "overlapping_mice = []\n",
    "for mouse in bolus_mice:\n",
    "    if mouse in molecular_mice:\n",
    "        overlapping_mice.append(mouse)\n",
    "\n",
    "len(overlapping_mice)"
   ]
  },
  {
   "cell_type": "code",
   "execution_count": 17,
   "id": "91bbdd01",
   "metadata": {},
   "outputs": [],
   "source": [
    "import yaml\n",
    "import pandas as pd\n",
    "\n",
    "yaml_path = Path('bolus-organization.yml')\n",
    "data_organization = yaml.safe_load(yaml_path.read_text())"
   ]
  },
  {
   "cell_type": "code",
   "execution_count": 40,
   "id": "14c02750",
   "metadata": {},
   "outputs": [
    {
     "name": "stderr",
     "output_type": "stream",
     "text": [
      "  0%|          | 0/15 [00:00<?, ?it/s]"
     ]
    },
    {
     "name": "stdout",
     "output_type": "stream",
     "text": [
      "m948\n"
     ]
    },
    {
     "name": "stderr",
     "output_type": "stream",
     "text": [
      "GLCM is symmetrical, therefore Sum Average = 2 * Joint Average, only 1 needs to be calculated\n"
     ]
    },
    {
     "name": "stdout",
     "output_type": "stream",
     "text": [
      "Warning: m948d20150724MolecularLIP.nii has nonzero background. Value is 1.0\n"
     ]
    },
    {
     "name": "stderr",
     "output_type": "stream",
     "text": [
      "GLCM is symmetrical, therefore Sum Average = 2 * Joint Average, only 1 needs to be calculated\n"
     ]
    },
    {
     "name": "stdout",
     "output_type": "stream",
     "text": [
      "Warning: m948d20150724MolecularFullLIP.nii has nonzero background. Value is 1.0\n",
      "Warning: m948d20150724MolecularFullAIP.nii has nonzero background. Value is 1.0\n"
     ]
    },
    {
     "name": "stderr",
     "output_type": "stream",
     "text": [
      "GLCM is symmetrical, therefore Sum Average = 2 * Joint Average, only 1 needs to be calculated\n"
     ]
    },
    {
     "name": "stdout",
     "output_type": "stream",
     "text": [
      "Warning: m948d20150724MolecularAIP.nii has nonzero background. Value is 1.0\n"
     ]
    },
    {
     "name": "stderr",
     "output_type": "stream",
     "text": [
      "GLCM is symmetrical, therefore Sum Average = 2 * Joint Average, only 1 needs to be calculated\n"
     ]
    },
    {
     "name": "stdout",
     "output_type": "stream",
     "text": [
      "Warning: m948d20150724MolecularFullMIP.nii has nonzero background. Value is 1.0\n"
     ]
    },
    {
     "name": "stderr",
     "output_type": "stream",
     "text": [
      "GLCM is symmetrical, therefore Sum Average = 2 * Joint Average, only 1 needs to be calculated\n"
     ]
    },
    {
     "name": "stdout",
     "output_type": "stream",
     "text": [
      "Warning: m948d20150724MolecularBaseline.nii has nonzero background. Value is 1.0\n"
     ]
    },
    {
     "name": "stderr",
     "output_type": "stream",
     "text": [
      "GLCM is symmetrical, therefore Sum Average = 2 * Joint Average, only 1 needs to be calculated\n",
      "GLCM is symmetrical, therefore Sum Average = 2 * Joint Average, only 1 needs to be calculated\n"
     ]
    },
    {
     "name": "stdout",
     "output_type": "stream",
     "text": [
      "Warning: m948d20150724MolecularMIP.nii has nonzero background. Value is 1.0\n"
     ]
    },
    {
     "name": "stderr",
     "output_type": "stream",
     "text": [
      "GLCM is symmetrical, therefore Sum Average = 2 * Joint Average, only 1 needs to be calculated\n",
      "GLCM is symmetrical, therefore Sum Average = 2 * Joint Average, only 1 needs to be calculated\n",
      "GLCM is symmetrical, therefore Sum Average = 2 * Joint Average, only 1 needs to be calculated\n",
      "GLCM is symmetrical, therefore Sum Average = 2 * Joint Average, only 1 needs to be calculated\n",
      "GLCM is symmetrical, therefore Sum Average = 2 * Joint Average, only 1 needs to be calculated\n"
     ]
    },
    {
     "name": "stdout",
     "output_type": "stream",
     "text": [
      "Clipping AUC...\n"
     ]
    },
    {
     "name": "stderr",
     "output_type": "stream",
     "text": [
      "GLCM is symmetrical, therefore Sum Average = 2 * Joint Average, only 1 needs to be calculated\n",
      "GLCM is symmetrical, therefore Sum Average = 2 * Joint Average, only 1 needs to be calculated\n",
      "GLCM is symmetrical, therefore Sum Average = 2 * Joint Average, only 1 needs to be calculated\n"
     ]
    },
    {
     "name": "stdout",
     "output_type": "stream",
     "text": [
      "Warning: m948d20150724BolusMinDiff.nii has no positive values. Max val is 0.0\n",
      "Flipping image...\n"
     ]
    },
    {
     "name": "stderr",
     "output_type": "stream",
     "text": [
      "GLCM is symmetrical, therefore Sum Average = 2 * Joint Average, only 1 needs to be calculated\n",
      "GLCM is symmetrical, therefore Sum Average = 2 * Joint Average, only 1 needs to be calculated\n",
      "GLCM is symmetrical, therefore Sum Average = 2 * Joint Average, only 1 needs to be calculated\n",
      "GLCM is symmetrical, therefore Sum Average = 2 * Joint Average, only 1 needs to be calculated\n",
      "GLCM is symmetrical, therefore Sum Average = 2 * Joint Average, only 1 needs to be calculated\n",
      "GLCM is symmetrical, therefore Sum Average = 2 * Joint Average, only 1 needs to be calculated\n",
      "GLCM is symmetrical, therefore Sum Average = 2 * Joint Average, only 1 needs to be calculated\n",
      "GLCM is symmetrical, therefore Sum Average = 2 * Joint Average, only 1 needs to be calculated\n",
      "GLCM is symmetrical, therefore Sum Average = 2 * Joint Average, only 1 needs to be calculated\n"
     ]
    },
    {
     "name": "stdout",
     "output_type": "stream",
     "text": [
      "Warning: m948d20150723MolecularLIP.nii has nonzero background. Value is 1.0\n"
     ]
    },
    {
     "name": "stderr",
     "output_type": "stream",
     "text": [
      "GLCM is symmetrical, therefore Sum Average = 2 * Joint Average, only 1 needs to be calculated\n"
     ]
    },
    {
     "name": "stdout",
     "output_type": "stream",
     "text": [
      "Warning: m948d20150723MolecularFullMIP.nii has nonzero background. Value is 1.0\n"
     ]
    },
    {
     "name": "stderr",
     "output_type": "stream",
     "text": [
      "GLCM is symmetrical, therefore Sum Average = 2 * Joint Average, only 1 needs to be calculated\n"
     ]
    },
    {
     "name": "stdout",
     "output_type": "stream",
     "text": [
      "Warning: m948d20150723MolecularFullAIP.nii has nonzero background. Value is 1.0\n"
     ]
    },
    {
     "name": "stderr",
     "output_type": "stream",
     "text": [
      "GLCM is symmetrical, therefore Sum Average = 2 * Joint Average, only 1 needs to be calculated\n"
     ]
    },
    {
     "name": "stdout",
     "output_type": "stream",
     "text": [
      "Warning: m948d20150723MolecularFullLIP.nii has nonzero background. Value is 1.0\n"
     ]
    },
    {
     "name": "stderr",
     "output_type": "stream",
     "text": [
      "GLCM is symmetrical, therefore Sum Average = 2 * Joint Average, only 1 needs to be calculated\n"
     ]
    },
    {
     "name": "stdout",
     "output_type": "stream",
     "text": [
      "Warning: m948d20150723MolecularMIP.nii has nonzero background. Value is 1.0\n"
     ]
    },
    {
     "name": "stderr",
     "output_type": "stream",
     "text": [
      "GLCM is symmetrical, therefore Sum Average = 2 * Joint Average, only 1 needs to be calculated\n",
      "GLCM is symmetrical, therefore Sum Average = 2 * Joint Average, only 1 needs to be calculated\n"
     ]
    },
    {
     "name": "stdout",
     "output_type": "stream",
     "text": [
      "Warning: m948d20150723MolecularBaseline.nii has nonzero background. Value is 1.0\n"
     ]
    },
    {
     "name": "stderr",
     "output_type": "stream",
     "text": [
      "GLCM is symmetrical, therefore Sum Average = 2 * Joint Average, only 1 needs to be calculated\n"
     ]
    },
    {
     "name": "stdout",
     "output_type": "stream",
     "text": [
      "Warning: m948d20150723MolecularAIP.nii has nonzero background. Value is 1.0\n"
     ]
    },
    {
     "name": "stderr",
     "output_type": "stream",
     "text": [
      "GLCM is symmetrical, therefore Sum Average = 2 * Joint Average, only 1 needs to be calculated\n",
      "GLCM is symmetrical, therefore Sum Average = 2 * Joint Average, only 1 needs to be calculated\n",
      "GLCM is symmetrical, therefore Sum Average = 2 * Joint Average, only 1 needs to be calculated\n",
      "GLCM is symmetrical, therefore Sum Average = 2 * Joint Average, only 1 needs to be calculated\n",
      "GLCM is symmetrical, therefore Sum Average = 2 * Joint Average, only 1 needs to be calculated\n",
      "GLCM is symmetrical, therefore Sum Average = 2 * Joint Average, only 1 needs to be calculated\n",
      "GLCM is symmetrical, therefore Sum Average = 2 * Joint Average, only 1 needs to be calculated\n"
     ]
    },
    {
     "name": "stdout",
     "output_type": "stream",
     "text": [
      "Clipping AUC...\n"
     ]
    },
    {
     "name": "stderr",
     "output_type": "stream",
     "text": [
      "GLCM is symmetrical, therefore Sum Average = 2 * Joint Average, only 1 needs to be calculated\n"
     ]
    },
    {
     "name": "stdout",
     "output_type": "stream",
     "text": [
      "Warning: m948d20150723BolusMinDiff.nii has no positive values. Max val is 0.0\n",
      "Flipping image...\n"
     ]
    },
    {
     "name": "stderr",
     "output_type": "stream",
     "text": [
      "GLCM is symmetrical, therefore Sum Average = 2 * Joint Average, only 1 needs to be calculated\n",
      "GLCM is symmetrical, therefore Sum Average = 2 * Joint Average, only 1 needs to be calculated\n",
      "GLCM is symmetrical, therefore Sum Average = 2 * Joint Average, only 1 needs to be calculated\n",
      "GLCM is symmetrical, therefore Sum Average = 2 * Joint Average, only 1 needs to be calculated\n",
      "GLCM is symmetrical, therefore Sum Average = 2 * Joint Average, only 1 needs to be calculated\n",
      "GLCM is symmetrical, therefore Sum Average = 2 * Joint Average, only 1 needs to be calculated\n",
      "GLCM is symmetrical, therefore Sum Average = 2 * Joint Average, only 1 needs to be calculated\n",
      "GLCM is symmetrical, therefore Sum Average = 2 * Joint Average, only 1 needs to be calculated\n",
      "GLCM is symmetrical, therefore Sum Average = 2 * Joint Average, only 1 needs to be calculated\n"
     ]
    },
    {
     "name": "stdout",
     "output_type": "stream",
     "text": [
      "Warning: m948d20150730MolecularLIP.nii has nonzero background. Value is 1.0\n"
     ]
    },
    {
     "name": "stderr",
     "output_type": "stream",
     "text": [
      "GLCM is symmetrical, therefore Sum Average = 2 * Joint Average, only 1 needs to be calculated\n"
     ]
    },
    {
     "name": "stdout",
     "output_type": "stream",
     "text": [
      "Warning: m948d20150730MolecularAIP.nii has nonzero background. Value is 1.0\n"
     ]
    },
    {
     "name": "stderr",
     "output_type": "stream",
     "text": [
      "GLCM is symmetrical, therefore Sum Average = 2 * Joint Average, only 1 needs to be calculated\n"
     ]
    },
    {
     "name": "stdout",
     "output_type": "stream",
     "text": [
      "Warning: m948d20150730MolecularFullLIP.nii has nonzero background. Value is 1.0\n"
     ]
    },
    {
     "name": "stderr",
     "output_type": "stream",
     "text": [
      "GLCM is symmetrical, therefore Sum Average = 2 * Joint Average, only 1 needs to be calculated\n"
     ]
    },
    {
     "name": "stdout",
     "output_type": "stream",
     "text": [
      "Warning: m948d20150730MolecularFullAIP.nii has nonzero background. Value is 1.0\n"
     ]
    },
    {
     "name": "stderr",
     "output_type": "stream",
     "text": [
      "GLCM is symmetrical, therefore Sum Average = 2 * Joint Average, only 1 needs to be calculated\n"
     ]
    },
    {
     "name": "stdout",
     "output_type": "stream",
     "text": [
      "Warning: m948d20150730MolecularBaseline.nii has nonzero background. Value is 1.0\n"
     ]
    },
    {
     "name": "stderr",
     "output_type": "stream",
     "text": [
      "GLCM is symmetrical, therefore Sum Average = 2 * Joint Average, only 1 needs to be calculated\n"
     ]
    },
    {
     "name": "stdout",
     "output_type": "stream",
     "text": [
      "Warning: m948d20150730MolecularFullMIP.nii has nonzero background. Value is 1.0\n"
     ]
    },
    {
     "name": "stderr",
     "output_type": "stream",
     "text": [
      "GLCM is symmetrical, therefore Sum Average = 2 * Joint Average, only 1 needs to be calculated\n"
     ]
    },
    {
     "name": "stdout",
     "output_type": "stream",
     "text": [
      "Warning: m948d20150730MolecularMIP.nii has nonzero background. Value is 1.0\n"
     ]
    },
    {
     "name": "stderr",
     "output_type": "stream",
     "text": [
      "GLCM is symmetrical, therefore Sum Average = 2 * Joint Average, only 1 needs to be calculated\n",
      "GLCM is symmetrical, therefore Sum Average = 2 * Joint Average, only 1 needs to be calculated\n",
      "GLCM is symmetrical, therefore Sum Average = 2 * Joint Average, only 1 needs to be calculated\n",
      "GLCM is symmetrical, therefore Sum Average = 2 * Joint Average, only 1 needs to be calculated\n",
      "GLCM is symmetrical, therefore Sum Average = 2 * Joint Average, only 1 needs to be calculated\n",
      "GLCM is symmetrical, therefore Sum Average = 2 * Joint Average, only 1 needs to be calculated\n"
     ]
    },
    {
     "name": "stdout",
     "output_type": "stream",
     "text": [
      "Clipping AUC...\n"
     ]
    },
    {
     "name": "stderr",
     "output_type": "stream",
     "text": [
      "GLCM is symmetrical, therefore Sum Average = 2 * Joint Average, only 1 needs to be calculated\n",
      "GLCM is symmetrical, therefore Sum Average = 2 * Joint Average, only 1 needs to be calculated\n",
      "GLCM is symmetrical, therefore Sum Average = 2 * Joint Average, only 1 needs to be calculated\n"
     ]
    },
    {
     "name": "stdout",
     "output_type": "stream",
     "text": [
      "Warning: m948d20150730BolusMinDiff.nii has no positive values. Max val is 0.0\n",
      "Flipping image...\n"
     ]
    },
    {
     "name": "stderr",
     "output_type": "stream",
     "text": [
      "GLCM is symmetrical, therefore Sum Average = 2 * Joint Average, only 1 needs to be calculated\n",
      "GLCM is symmetrical, therefore Sum Average = 2 * Joint Average, only 1 needs to be calculated\n",
      "GLCM is symmetrical, therefore Sum Average = 2 * Joint Average, only 1 needs to be calculated\n",
      "GLCM is symmetrical, therefore Sum Average = 2 * Joint Average, only 1 needs to be calculated\n",
      "GLCM is symmetrical, therefore Sum Average = 2 * Joint Average, only 1 needs to be calculated\n",
      "GLCM is symmetrical, therefore Sum Average = 2 * Joint Average, only 1 needs to be calculated\n",
      "GLCM is symmetrical, therefore Sum Average = 2 * Joint Average, only 1 needs to be calculated\n",
      "GLCM is symmetrical, therefore Sum Average = 2 * Joint Average, only 1 needs to be calculated\n",
      "GLCM is symmetrical, therefore Sum Average = 2 * Joint Average, only 1 needs to be calculated\n"
     ]
    },
    {
     "name": "stdout",
     "output_type": "stream",
     "text": [
      "Warning: m948d20150802MolecularLIP.nii has nonzero background. Value is 1.0\n"
     ]
    },
    {
     "name": "stderr",
     "output_type": "stream",
     "text": [
      "GLCM is symmetrical, therefore Sum Average = 2 * Joint Average, only 1 needs to be calculated\n"
     ]
    },
    {
     "name": "stdout",
     "output_type": "stream",
     "text": [
      "Warning: m948d20150802MolecularBaseline.nii has nonzero background. Value is 1.0\n"
     ]
    },
    {
     "name": "stderr",
     "output_type": "stream",
     "text": [
      "GLCM is symmetrical, therefore Sum Average = 2 * Joint Average, only 1 needs to be calculated\n"
     ]
    },
    {
     "name": "stdout",
     "output_type": "stream",
     "text": [
      "Warning: m948d20150802MolecularFullAIP.nii has nonzero background. Value is 1.0\n"
     ]
    },
    {
     "name": "stderr",
     "output_type": "stream",
     "text": [
      "GLCM is symmetrical, therefore Sum Average = 2 * Joint Average, only 1 needs to be calculated\n",
      "GLCM is symmetrical, therefore Sum Average = 2 * Joint Average, only 1 needs to be calculated\n",
      "GLCM is symmetrical, therefore Sum Average = 2 * Joint Average, only 1 needs to be calculated\n",
      "GLCM is symmetrical, therefore Sum Average = 2 * Joint Average, only 1 needs to be calculated\n",
      "GLCM is symmetrical, therefore Sum Average = 2 * Joint Average, only 1 needs to be calculated\n"
     ]
    },
    {
     "name": "stdout",
     "output_type": "stream",
     "text": [
      "Warning: m948d20150802MolecularAIP.nii has nonzero background. Value is 1.0\n"
     ]
    },
    {
     "name": "stderr",
     "output_type": "stream",
     "text": [
      "GLCM is symmetrical, therefore Sum Average = 2 * Joint Average, only 1 needs to be calculated\n"
     ]
    },
    {
     "name": "stdout",
     "output_type": "stream",
     "text": [
      "Warning: m948d20150802MolecularFullLIP.nii has nonzero background. Value is 1.0\n"
     ]
    },
    {
     "name": "stderr",
     "output_type": "stream",
     "text": [
      "GLCM is symmetrical, therefore Sum Average = 2 * Joint Average, only 1 needs to be calculated\n"
     ]
    },
    {
     "name": "stdout",
     "output_type": "stream",
     "text": [
      "Warning: m948d20150802MolecularFullMIP.nii has nonzero background. Value is 1.0\n"
     ]
    },
    {
     "name": "stderr",
     "output_type": "stream",
     "text": [
      "GLCM is symmetrical, therefore Sum Average = 2 * Joint Average, only 1 needs to be calculated\n"
     ]
    },
    {
     "name": "stdout",
     "output_type": "stream",
     "text": [
      "Warning: m948d20150802MolecularMIP.nii has nonzero background. Value is 1.0\n"
     ]
    },
    {
     "name": "stderr",
     "output_type": "stream",
     "text": [
      "GLCM is symmetrical, therefore Sum Average = 2 * Joint Average, only 1 needs to be calculated\n",
      "GLCM is symmetrical, therefore Sum Average = 2 * Joint Average, only 1 needs to be calculated\n"
     ]
    },
    {
     "name": "stdout",
     "output_type": "stream",
     "text": [
      "Clipping AUC...\n"
     ]
    },
    {
     "name": "stderr",
     "output_type": "stream",
     "text": [
      "GLCM is symmetrical, therefore Sum Average = 2 * Joint Average, only 1 needs to be calculated\n",
      "GLCM is symmetrical, therefore Sum Average = 2 * Joint Average, only 1 needs to be calculated\n",
      "GLCM is symmetrical, therefore Sum Average = 2 * Joint Average, only 1 needs to be calculated\n"
     ]
    },
    {
     "name": "stdout",
     "output_type": "stream",
     "text": [
      "Warning: m948d20150802BolusMinDiff.nii has no positive values. Max val is 0.0\n",
      "Flipping image...\n"
     ]
    },
    {
     "name": "stderr",
     "output_type": "stream",
     "text": [
      "GLCM is symmetrical, therefore Sum Average = 2 * Joint Average, only 1 needs to be calculated\n",
      "GLCM is symmetrical, therefore Sum Average = 2 * Joint Average, only 1 needs to be calculated\n",
      "GLCM is symmetrical, therefore Sum Average = 2 * Joint Average, only 1 needs to be calculated\n",
      "GLCM is symmetrical, therefore Sum Average = 2 * Joint Average, only 1 needs to be calculated\n",
      "GLCM is symmetrical, therefore Sum Average = 2 * Joint Average, only 1 needs to be calculated\n",
      "GLCM is symmetrical, therefore Sum Average = 2 * Joint Average, only 1 needs to be calculated\n",
      "GLCM is symmetrical, therefore Sum Average = 2 * Joint Average, only 1 needs to be calculated\n",
      "GLCM is symmetrical, therefore Sum Average = 2 * Joint Average, only 1 needs to be calculated\n",
      "GLCM is symmetrical, therefore Sum Average = 2 * Joint Average, only 1 needs to be calculated\n"
     ]
    },
    {
     "name": "stdout",
     "output_type": "stream",
     "text": [
      "Warning: m948d20150726MolecularFullLIP.nii has nonzero background. Value is 1.0\n"
     ]
    },
    {
     "name": "stderr",
     "output_type": "stream",
     "text": [
      "GLCM is symmetrical, therefore Sum Average = 2 * Joint Average, only 1 needs to be calculated\n",
      "GLCM is symmetrical, therefore Sum Average = 2 * Joint Average, only 1 needs to be calculated\n",
      "GLCM is symmetrical, therefore Sum Average = 2 * Joint Average, only 1 needs to be calculated\n"
     ]
    },
    {
     "name": "stdout",
     "output_type": "stream",
     "text": [
      "Warning: m948d20150726MolecularFullAIP.nii has nonzero background. Value is 1.0\n"
     ]
    },
    {
     "name": "stderr",
     "output_type": "stream",
     "text": [
      "GLCM is symmetrical, therefore Sum Average = 2 * Joint Average, only 1 needs to be calculated\n"
     ]
    },
    {
     "name": "stdout",
     "output_type": "stream",
     "text": [
      "Warning: m948d20150726MolecularMIP.nii has nonzero background. Value is 1.0\n"
     ]
    },
    {
     "name": "stderr",
     "output_type": "stream",
     "text": [
      "GLCM is symmetrical, therefore Sum Average = 2 * Joint Average, only 1 needs to be calculated\n"
     ]
    },
    {
     "name": "stdout",
     "output_type": "stream",
     "text": [
      "Warning: m948d20150726MolecularLIP.nii has nonzero background. Value is 1.0\n"
     ]
    },
    {
     "name": "stderr",
     "output_type": "stream",
     "text": [
      "GLCM is symmetrical, therefore Sum Average = 2 * Joint Average, only 1 needs to be calculated\n"
     ]
    },
    {
     "name": "stdout",
     "output_type": "stream",
     "text": [
      "Warning: m948d20150726MolecularFullMIP.nii has nonzero background. Value is 1.0\n"
     ]
    },
    {
     "name": "stderr",
     "output_type": "stream",
     "text": [
      "GLCM is symmetrical, therefore Sum Average = 2 * Joint Average, only 1 needs to be calculated\n"
     ]
    },
    {
     "name": "stdout",
     "output_type": "stream",
     "text": [
      "Warning: m948d20150726MolecularAIP.nii has nonzero background. Value is 1.0\n"
     ]
    },
    {
     "name": "stderr",
     "output_type": "stream",
     "text": [
      "GLCM is symmetrical, therefore Sum Average = 2 * Joint Average, only 1 needs to be calculated\n"
     ]
    },
    {
     "name": "stdout",
     "output_type": "stream",
     "text": [
      "Warning: m948d20150726MolecularBaseline.nii has nonzero background. Value is 1.0\n"
     ]
    },
    {
     "name": "stderr",
     "output_type": "stream",
     "text": [
      "GLCM is symmetrical, therefore Sum Average = 2 * Joint Average, only 1 needs to be calculated\n",
      "GLCM is symmetrical, therefore Sum Average = 2 * Joint Average, only 1 needs to be calculated\n",
      "GLCM is symmetrical, therefore Sum Average = 2 * Joint Average, only 1 needs to be calculated\n",
      "GLCM is symmetrical, therefore Sum Average = 2 * Joint Average, only 1 needs to be calculated\n"
     ]
    },
    {
     "name": "stdout",
     "output_type": "stream",
     "text": [
      "Clipping AUC...\n"
     ]
    },
    {
     "name": "stderr",
     "output_type": "stream",
     "text": [
      "GLCM is symmetrical, therefore Sum Average = 2 * Joint Average, only 1 needs to be calculated\n",
      "GLCM is symmetrical, therefore Sum Average = 2 * Joint Average, only 1 needs to be calculated\n",
      "GLCM is symmetrical, therefore Sum Average = 2 * Joint Average, only 1 needs to be calculated\n"
     ]
    },
    {
     "name": "stdout",
     "output_type": "stream",
     "text": [
      "Warning: m948d20150726BolusMinDiff.nii has no positive values. Max val is 0.0\n",
      "Flipping image...\n"
     ]
    },
    {
     "name": "stderr",
     "output_type": "stream",
     "text": [
      "GLCM is symmetrical, therefore Sum Average = 2 * Joint Average, only 1 needs to be calculated\n",
      "GLCM is symmetrical, therefore Sum Average = 2 * Joint Average, only 1 needs to be calculated\n",
      "GLCM is symmetrical, therefore Sum Average = 2 * Joint Average, only 1 needs to be calculated\n"
     ]
    },
    {
     "name": "stdout",
     "output_type": "stream",
     "text": [
      "Error processing m948d20150726BolusPE.nii: Calculation of GLCM Failed.\n",
      "Skipping this image...\n"
     ]
    },
    {
     "name": "stderr",
     "output_type": "stream",
     "text": [
      "GLCM is symmetrical, therefore Sum Average = 2 * Joint Average, only 1 needs to be calculated\n",
      "GLCM is symmetrical, therefore Sum Average = 2 * Joint Average, only 1 needs to be calculated\n",
      "GLCM is symmetrical, therefore Sum Average = 2 * Joint Average, only 1 needs to be calculated\n",
      "GLCM is symmetrical, therefore Sum Average = 2 * Joint Average, only 1 needs to be calculated\n",
      "GLCM is symmetrical, therefore Sum Average = 2 * Joint Average, only 1 needs to be calculated\n",
      "  7%|▋         | 1/15 [04:33<1:03:48, 273.47s/it]"
     ]
    },
    {
     "name": "stdout",
     "output_type": "stream",
     "text": [
      "m924\n"
     ]
    },
    {
     "name": "stderr",
     "output_type": "stream",
     "text": [
      "GLCM is symmetrical, therefore Sum Average = 2 * Joint Average, only 1 needs to be calculated\n",
      "GLCM is symmetrical, therefore Sum Average = 2 * Joint Average, only 1 needs to be calculated\n",
      "GLCM is symmetrical, therefore Sum Average = 2 * Joint Average, only 1 needs to be calculated\n"
     ]
    },
    {
     "name": "stdout",
     "output_type": "stream",
     "text": [
      "Warning: m924d20150614MolecularFullLIP.nii has nonzero background. Value is 1.0\n"
     ]
    },
    {
     "name": "stderr",
     "output_type": "stream",
     "text": [
      "GLCM is symmetrical, therefore Sum Average = 2 * Joint Average, only 1 needs to be calculated\n"
     ]
    },
    {
     "name": "stdout",
     "output_type": "stream",
     "text": [
      "Warning: m924d20150614MolecularLIP.nii has nonzero background. Value is 1.0\n"
     ]
    },
    {
     "name": "stderr",
     "output_type": "stream",
     "text": [
      "GLCM is symmetrical, therefore Sum Average = 2 * Joint Average, only 1 needs to be calculated\n"
     ]
    },
    {
     "name": "stdout",
     "output_type": "stream",
     "text": [
      "Warning: m924d20150614MolecularFullMIP.nii has nonzero background. Value is 1.0\n"
     ]
    },
    {
     "name": "stderr",
     "output_type": "stream",
     "text": [
      "GLCM is symmetrical, therefore Sum Average = 2 * Joint Average, only 1 needs to be calculated\n"
     ]
    },
    {
     "name": "stdout",
     "output_type": "stream",
     "text": [
      "Warning: m924d20150614MolecularFullAIP.nii has nonzero background. Value is 1.0\n"
     ]
    },
    {
     "name": "stderr",
     "output_type": "stream",
     "text": [
      "GLCM is symmetrical, therefore Sum Average = 2 * Joint Average, only 1 needs to be calculated\n",
      "GLCM is symmetrical, therefore Sum Average = 2 * Joint Average, only 1 needs to be calculated\n"
     ]
    },
    {
     "name": "stdout",
     "output_type": "stream",
     "text": [
      "Warning: m924d20150614MolecularAIP.nii has nonzero background. Value is 1.0\n"
     ]
    },
    {
     "name": "stderr",
     "output_type": "stream",
     "text": [
      "GLCM is symmetrical, therefore Sum Average = 2 * Joint Average, only 1 needs to be calculated\n"
     ]
    },
    {
     "name": "stdout",
     "output_type": "stream",
     "text": [
      "Warning: m924d20150614MolecularBaseline.nii has nonzero background. Value is 1.0\n"
     ]
    },
    {
     "name": "stderr",
     "output_type": "stream",
     "text": [
      "GLCM is symmetrical, therefore Sum Average = 2 * Joint Average, only 1 needs to be calculated\n"
     ]
    },
    {
     "name": "stdout",
     "output_type": "stream",
     "text": [
      "Warning: m924d20150614MolecularMIP.nii has nonzero background. Value is 1.0\n"
     ]
    },
    {
     "name": "stderr",
     "output_type": "stream",
     "text": [
      "GLCM is symmetrical, therefore Sum Average = 2 * Joint Average, only 1 needs to be calculated\n",
      "GLCM is symmetrical, therefore Sum Average = 2 * Joint Average, only 1 needs to be calculated\n"
     ]
    },
    {
     "name": "stdout",
     "output_type": "stream",
     "text": [
      "Clipping AUC...\n"
     ]
    },
    {
     "name": "stderr",
     "output_type": "stream",
     "text": [
      "GLCM is symmetrical, therefore Sum Average = 2 * Joint Average, only 1 needs to be calculated\n",
      "GLCM is symmetrical, therefore Sum Average = 2 * Joint Average, only 1 needs to be calculated\n",
      "GLCM is symmetrical, therefore Sum Average = 2 * Joint Average, only 1 needs to be calculated\n"
     ]
    },
    {
     "name": "stdout",
     "output_type": "stream",
     "text": [
      "Warning: m924d20150614BolusMinDiff.nii has no positive values. Max val is 0.0\n",
      "Flipping image...\n"
     ]
    },
    {
     "name": "stderr",
     "output_type": "stream",
     "text": [
      "GLCM is symmetrical, therefore Sum Average = 2 * Joint Average, only 1 needs to be calculated\n",
      "GLCM is symmetrical, therefore Sum Average = 2 * Joint Average, only 1 needs to be calculated\n",
      "GLCM is symmetrical, therefore Sum Average = 2 * Joint Average, only 1 needs to be calculated\n",
      "GLCM is symmetrical, therefore Sum Average = 2 * Joint Average, only 1 needs to be calculated\n",
      "GLCM is symmetrical, therefore Sum Average = 2 * Joint Average, only 1 needs to be calculated\n",
      "GLCM is symmetrical, therefore Sum Average = 2 * Joint Average, only 1 needs to be calculated\n",
      "GLCM is symmetrical, therefore Sum Average = 2 * Joint Average, only 1 needs to be calculated\n",
      "GLCM is symmetrical, therefore Sum Average = 2 * Joint Average, only 1 needs to be calculated\n",
      "GLCM is symmetrical, therefore Sum Average = 2 * Joint Average, only 1 needs to be calculated\n"
     ]
    },
    {
     "name": "stdout",
     "output_type": "stream",
     "text": [
      "Warning: m924d20150607MolecularBaseline.nii has nonzero background. Value is 1.0\n"
     ]
    },
    {
     "name": "stderr",
     "output_type": "stream",
     "text": [
      "GLCM is symmetrical, therefore Sum Average = 2 * Joint Average, only 1 needs to be calculated\n"
     ]
    },
    {
     "name": "stdout",
     "output_type": "stream",
     "text": [
      "Warning: m924d20150607MolecularAIP.nii has nonzero background. Value is 1.0\n"
     ]
    },
    {
     "name": "stderr",
     "output_type": "stream",
     "text": [
      "GLCM is symmetrical, therefore Sum Average = 2 * Joint Average, only 1 needs to be calculated\n"
     ]
    },
    {
     "name": "stdout",
     "output_type": "stream",
     "text": [
      "Warning: m924d20150607MolecularMIP.nii has nonzero background. Value is 1.0\n"
     ]
    },
    {
     "name": "stderr",
     "output_type": "stream",
     "text": [
      "GLCM is symmetrical, therefore Sum Average = 2 * Joint Average, only 1 needs to be calculated\n"
     ]
    },
    {
     "name": "stdout",
     "output_type": "stream",
     "text": [
      "Warning: m924d20150607MolecularFullMIP.nii has nonzero background. Value is 1.0\n"
     ]
    },
    {
     "name": "stderr",
     "output_type": "stream",
     "text": [
      "GLCM is symmetrical, therefore Sum Average = 2 * Joint Average, only 1 needs to be calculated\n"
     ]
    },
    {
     "name": "stdout",
     "output_type": "stream",
     "text": [
      "Warning: m924d20150607MolecularLIP.nii has nonzero background. Value is 1.0\n"
     ]
    },
    {
     "name": "stderr",
     "output_type": "stream",
     "text": [
      "GLCM is symmetrical, therefore Sum Average = 2 * Joint Average, only 1 needs to be calculated\n"
     ]
    },
    {
     "name": "stdout",
     "output_type": "stream",
     "text": [
      "Warning: m924d20150607MolecularFullAIP.nii has nonzero background. Value is 1.0\n"
     ]
    },
    {
     "name": "stderr",
     "output_type": "stream",
     "text": [
      "GLCM is symmetrical, therefore Sum Average = 2 * Joint Average, only 1 needs to be calculated\n"
     ]
    },
    {
     "name": "stdout",
     "output_type": "stream",
     "text": [
      "Warning: m924d20150607MolecularFullLIP.nii has nonzero background. Value is 1.0\n"
     ]
    },
    {
     "name": "stderr",
     "output_type": "stream",
     "text": [
      "GLCM is symmetrical, therefore Sum Average = 2 * Joint Average, only 1 needs to be calculated\n",
      "GLCM is symmetrical, therefore Sum Average = 2 * Joint Average, only 1 needs to be calculated\n",
      "GLCM is symmetrical, therefore Sum Average = 2 * Joint Average, only 1 needs to be calculated\n",
      "GLCM is symmetrical, therefore Sum Average = 2 * Joint Average, only 1 needs to be calculated\n",
      "GLCM is symmetrical, therefore Sum Average = 2 * Joint Average, only 1 needs to be calculated\n",
      "GLCM is symmetrical, therefore Sum Average = 2 * Joint Average, only 1 needs to be calculated\n"
     ]
    },
    {
     "name": "stdout",
     "output_type": "stream",
     "text": [
      "Clipping AUC...\n"
     ]
    },
    {
     "name": "stderr",
     "output_type": "stream",
     "text": [
      "GLCM is symmetrical, therefore Sum Average = 2 * Joint Average, only 1 needs to be calculated\n",
      "GLCM is symmetrical, therefore Sum Average = 2 * Joint Average, only 1 needs to be calculated\n",
      "GLCM is symmetrical, therefore Sum Average = 2 * Joint Average, only 1 needs to be calculated\n"
     ]
    },
    {
     "name": "stdout",
     "output_type": "stream",
     "text": [
      "Warning: m924d20150607BolusMinDiff.nii has no positive values. Max val is 0.0\n",
      "Flipping image...\n"
     ]
    },
    {
     "name": "stderr",
     "output_type": "stream",
     "text": [
      "GLCM is symmetrical, therefore Sum Average = 2 * Joint Average, only 1 needs to be calculated\n",
      "GLCM is symmetrical, therefore Sum Average = 2 * Joint Average, only 1 needs to be calculated\n",
      "GLCM is symmetrical, therefore Sum Average = 2 * Joint Average, only 1 needs to be calculated\n",
      "GLCM is symmetrical, therefore Sum Average = 2 * Joint Average, only 1 needs to be calculated\n",
      "GLCM is symmetrical, therefore Sum Average = 2 * Joint Average, only 1 needs to be calculated\n",
      "GLCM is symmetrical, therefore Sum Average = 2 * Joint Average, only 1 needs to be calculated\n",
      "GLCM is symmetrical, therefore Sum Average = 2 * Joint Average, only 1 needs to be calculated\n",
      "GLCM is symmetrical, therefore Sum Average = 2 * Joint Average, only 1 needs to be calculated\n",
      "GLCM is symmetrical, therefore Sum Average = 2 * Joint Average, only 1 needs to be calculated\n"
     ]
    },
    {
     "name": "stdout",
     "output_type": "stream",
     "text": [
      "Warning: m924d20150611MolecularLIP.nii has nonzero background. Value is 1.0\n"
     ]
    },
    {
     "name": "stderr",
     "output_type": "stream",
     "text": [
      "GLCM is symmetrical, therefore Sum Average = 2 * Joint Average, only 1 needs to be calculated\n",
      "GLCM is symmetrical, therefore Sum Average = 2 * Joint Average, only 1 needs to be calculated\n",
      "GLCM is symmetrical, therefore Sum Average = 2 * Joint Average, only 1 needs to be calculated\n",
      "GLCM is symmetrical, therefore Sum Average = 2 * Joint Average, only 1 needs to be calculated\n"
     ]
    },
    {
     "name": "stdout",
     "output_type": "stream",
     "text": [
      "Warning: m924d20150611MolecularFullLIP.nii has nonzero background. Value is 1.0\n"
     ]
    },
    {
     "name": "stderr",
     "output_type": "stream",
     "text": [
      "GLCM is symmetrical, therefore Sum Average = 2 * Joint Average, only 1 needs to be calculated\n"
     ]
    },
    {
     "name": "stdout",
     "output_type": "stream",
     "text": [
      "Warning: m924d20150611MolecularAIP.nii has nonzero background. Value is 1.0\n"
     ]
    },
    {
     "name": "stderr",
     "output_type": "stream",
     "text": [
      "GLCM is symmetrical, therefore Sum Average = 2 * Joint Average, only 1 needs to be calculated\n"
     ]
    },
    {
     "name": "stdout",
     "output_type": "stream",
     "text": [
      "Warning: m924d20150611MolecularFullAIP.nii has nonzero background. Value is 1.0\n"
     ]
    },
    {
     "name": "stderr",
     "output_type": "stream",
     "text": [
      "GLCM is symmetrical, therefore Sum Average = 2 * Joint Average, only 1 needs to be calculated\n"
     ]
    },
    {
     "ename": "",
     "evalue": "",
     "output_type": "error",
     "traceback": [
      "\u001b[1;31mCannot execute code, session has been disposed. Please try restarting the Kernel."
     ]
    },
    {
     "ename": "",
     "evalue": "",
     "output_type": "error",
     "traceback": [
      "\u001b[1;31mCannot execute code, session has been disposed. Please try restarting the Kernel. \n",
      "\u001b[1;31mView Jupyter <a href='command:jupyter.viewOutput'>log</a> for further details."
     ]
    }
   ],
   "source": [
    "scan_features = {}\n",
    "for mouse in tqdm(overlapping_mice[13:]):\n",
    "    print(mouse)\n",
    "    group = data_organization[mouse]\n",
    "    \n",
    "    bolus_img_folder = bolus_path / mouse\n",
    "    molecular_group = (group[:2] + \"Molecular\" + group[2:])\n",
    "    molecular_img_folder = molecular_path / molecular_group\n",
    "    mouse_maps = list(molecular_img_folder.glob(f\"{mouse}*\"))\n",
    "    mouse_scans = set([file.name[:13] for file in mouse_maps])\n",
    "    \n",
    "    scan_features[mouse] = {}\n",
    "    scan_features[mouse][\"bolus\"] = {}\n",
    "    scan_features[mouse][\"molecular\"] = {}\n",
    "    \n",
    "    for scan in mouse_scans:\n",
    "        scan_features[mouse][\"bolus\"][scan] = {}\n",
    "        scan_features[mouse][\"molecular\"][scan] = {}\n",
    "        \n",
    "        molecular_img_paths = list(molecular_img_folder.glob(f\"{scan}*.nii\"))\n",
    "        bolus_img_paths = [path for path in (bolus_path / mouse).iterdir() if path.name.startswith(scan) and path.name.endswith(\".nii\") and \"4D\" not in path.name]\n",
    "        \n",
    "        for path in molecular_img_paths:\n",
    "            molecular_img_arr = nib.load(path).get_fdata()\n",
    "            molecular_img = sitk.GetImageFromArray(molecular_img_arr)\n",
    "            if np.amin(molecular_img_arr) > 0:\n",
    "                print(f\"Warning: {path.name} has nonzero background. Value is {np.amin(molecular_img_arr)}\")\n",
    "                molecular_img_arr = molecular_img_arr - np.amin(molecular_img_arr)\n",
    "            if np.amax(molecular_img_arr) <= 0:\n",
    "                print(f\"Warning: {path.name} has no positive values. Max val is {np.amax(molecular_img_arr)}\")\n",
    "                print(\"Flipping image...\")\n",
    "                molecular_img_arr = np.abs(molecular_img_arr)\n",
    "                \n",
    "            mask = (molecular_img_arr > 0).astype(np.uint8)\n",
    "            final_mask = np.zeros_like(mask)\n",
    "            for i in range(molecular_img_arr.shape[1]):\n",
    "                final_mask[:, i, :] = binary_fill_holes(mask[:, i, :]).astype(np.uint8)\n",
    "            \n",
    "            assert np.amax(final_mask) == 1 and np.amin(final_mask) == 0\n",
    "            mask = sitk.GetImageFromArray(final_mask)\n",
    "            \n",
    "            radiomics_features = extractor.execute(molecular_img, mask)\n",
    "            scan_features[mouse][\"molecular\"][scan][path.name[13:-4]] = radiomics_features\n",
    "            del molecular_img_arr, molecular_img, radiomics_features, mask, final_mask\n",
    "\n",
    "        gc.collect()\n",
    "\n",
    "        for path in bolus_img_paths:\n",
    "            bolus_img_arr = nib.load(path).get_fdata()\n",
    "            if \"AUC\" in path.name:\n",
    "                bolus_img_arr = np.clip(bolus_img_arr, 0, 10000)\n",
    "                print(\"Clipping AUC...\")\n",
    "            bolus_img = sitk.GetImageFromArray(bolus_img_arr)\n",
    "            if np.amin(bolus_img_arr) > 0:\n",
    "                print(f\"Warning: {path.name} has nonzero background. Value is {np.amin(bolus_img_arr)}\")\n",
    "                bolus_img_arr = bolus_img_arr - np.amin(bolus_img_arr)\n",
    "            if np.amax(bolus_img_arr) <= 0:\n",
    "                print(f\"Warning: {path.name} has no positive values. Max val is {np.amax(bolus_img_arr)}\")\n",
    "                print(\"Flipping image...\")\n",
    "                bolus_img_arr = np.abs(bolus_img_arr)\n",
    "                \n",
    "            mask = (bolus_img_arr > 0).astype(np.uint8)\n",
    "            final_mask = np.zeros_like(mask)\n",
    "            for i in range(bolus_img_arr.shape[1]):\n",
    "                final_mask[:, i, :] = binary_fill_holes(mask[:, i, :]).astype(np.uint8)\n",
    "            for i in range(bolus_img_arr.shape[1]):\n",
    "                final_mask[:, i, :] = binary_fill_holes(final_mask[:, i, :]).astype(np.uint8)\n",
    "            for i in range(bolus_img_arr.shape[2]):\n",
    "                final_mask[:, :, i] = binary_fill_holes(final_mask[:, :, i]).astype(np.uint8)\n",
    "            \n",
    "            assert np.amax(final_mask) == 1 and np.amin(final_mask) == 0\n",
    "            mask = sitk.GetImageFromArray(final_mask)\n",
    "            \n",
    "            try:\n",
    "                radiomics_features = extractor.execute(bolus_img, mask)\n",
    "            except IndexError as e:\n",
    "                print(f\"Error processing {path.name}: {e}\")\n",
    "                print(\"Skipping this image...\")\n",
    "                radiomics_features = {}\n",
    "            scan_features[mouse][\"bolus\"][scan][path.name[13:-4]] = radiomics_features\n",
    "            del bolus_img, bolus_img_arr, mask, radiomics_features, final_mask\n",
    "        gc.collect()\n",
    "            "
   ]
  },
  {
   "cell_type": "code",
   "execution_count": 31,
   "id": "0c5c05df",
   "metadata": {},
   "outputs": [
    {
     "data": {
      "text/plain": [
       "dict_keys(['m948d20150723', 'm948d20150802', 'm948d20150724', 'm948d20150726'])"
      ]
     },
     "execution_count": 31,
     "metadata": {},
     "output_type": "execute_result"
    }
   ],
   "source": [
    "scan_features['m948']['molecular'].keys()"
   ]
  },
  {
   "cell_type": "code",
   "execution_count": 33,
   "id": "3ace35ea",
   "metadata": {},
   "outputs": [
    {
     "data": {
      "text/plain": [
       "(11, 11)"
      ]
     },
     "execution_count": 33,
     "metadata": {},
     "output_type": "execute_result"
    }
   ],
   "source": [
    "len(scan_features['m948']['molecular']['m948d20150724'].keys()), len(scan_features['m948']['molecular']['m948d20150726'].keys())"
   ]
  },
  {
   "cell_type": "code",
   "execution_count": 34,
   "id": "5fdcfc1f",
   "metadata": {},
   "outputs": [],
   "source": [
    "import pickle\n",
    "with open('organized_scan_features.pkl', 'wb') as f:\n",
    "    pickle.dump(scan_features, f)"
   ]
  },
  {
   "cell_type": "code",
   "execution_count": 2,
   "id": "ea863952",
   "metadata": {},
   "outputs": [],
   "source": [
    "import pickle\n",
    "with open('organized_scan_features.pkl', 'rb') as f:\n",
    "    scan_features_2 = pickle.load(f)"
   ]
  },
  {
   "cell_type": "code",
   "execution_count": null,
   "id": "a116f693",
   "metadata": {},
   "outputs": [
    {
     "data": {
      "text/plain": [
       "14"
      ]
     },
     "execution_count": 10,
     "metadata": {},
     "output_type": "execute_result"
    }
   ],
   "source": [
    "len(scan_features_2.keys())"
   ]
  },
  {
   "cell_type": "code",
   "execution_count": 13,
   "id": "f9847ad1",
   "metadata": {},
   "outputs": [
    {
     "data": {
      "text/plain": [
       "dict_keys(['m904', 'm907', 'm908', 'm913', 'm925', 'm933', 'm935', 'm937', 'm939', 'm940', 'm943', 'm946', 'm947', 'm948'])"
      ]
     },
     "execution_count": 13,
     "metadata": {},
     "output_type": "execute_result"
    }
   ],
   "source": [
    "scan_features_2.keys()"
   ]
  },
  {
   "cell_type": "code",
   "execution_count": 29,
   "id": "db3e76bb",
   "metadata": {},
   "outputs": [
    {
     "data": {
      "text/plain": [
       "dict_keys(['m948d20150723', 'm948d20150802', 'm948d20150724', 'm948d20150726'])"
      ]
     },
     "execution_count": 29,
     "metadata": {},
     "output_type": "execute_result"
    }
   ],
   "source": [
    "scan_features_2['m948']['bolus'].keys()"
   ]
  },
  {
   "cell_type": "code",
   "execution_count": 37,
   "id": "79060a39",
   "metadata": {},
   "outputs": [
    {
     "data": {
      "text/plain": [
       "dict_keys(['BolusAIP', 'BolusAUC', 'BolusAvgDiff', 'BolusMaxDiff', 'BolusMinDiff', 'BolusMIP', 'BolusMTT'])"
      ]
     },
     "execution_count": 37,
     "metadata": {},
     "output_type": "execute_result"
    }
   ],
   "source": [
    "scan_features_2['m948']['bolus']['m948d20150726'].keys()"
   ]
  },
  {
   "cell_type": "code",
   "execution_count": 18,
   "id": "15e79185",
   "metadata": {},
   "outputs": [],
   "source": [
    "import nibabel as nib\n",
    "\n",
    "path = '/Volumes/TOSHIBA EXT/Animal Data/Bolus/m904/m904d20150417BolusAvgDiff.nii'\n",
    "\n",
    "data = nib.load(path).get_fdata()"
   ]
  },
  {
   "cell_type": "code",
   "execution_count": 19,
   "id": "f165c420-7e3b-401f-888b-a2370dee06cc",
   "metadata": {},
   "outputs": [
    {
     "data": {
      "text/plain": [
       "(130, 105, 170)"
      ]
     },
     "execution_count": 19,
     "metadata": {},
     "output_type": "execute_result"
    }
   ],
   "source": [
    "data.shape"
   ]
  },
  {
   "cell_type": "code",
   "execution_count": 20,
   "id": "99c9bd54",
   "metadata": {},
   "outputs": [
    {
     "data": {
      "text/plain": [
       "(np.float64(38.77855434049778), np.float64(-0.17228280542776137))"
      ]
     },
     "execution_count": 20,
     "metadata": {},
     "output_type": "execute_result"
    }
   ],
   "source": [
    "np.amax(data), np.amin(data)"
   ]
  },
  {
   "cell_type": "code",
   "execution_count": 21,
   "id": "e151eb0a",
   "metadata": {},
   "outputs": [
    {
     "data": {
      "text/plain": [
       "<matplotlib.image.AxesImage at 0x16c5e6b10>"
      ]
     },
     "execution_count": 21,
     "metadata": {},
     "output_type": "execute_result"
    },
    {
     "data": {
      "image/png": "[encoded data removed]",
      "text/plain": [
       "<Figure size 640x480 with 1 Axes>"
      ]
     },
     "metadata": {},
     "output_type": "display_data"
    }
   ],
   "source": [
    "plt.imshow(data[:, 50, :], cmap='jet')"
   ]
  },
  {
   "cell_type": "code",
   "execution_count": 38,
   "id": "31596fed",
   "metadata": {},
   "outputs": [],
   "source": [
    "import matplotlib.pyplot as plt"
   ]
  },
  {
   "cell_type": "code",
   "execution_count": 39,
   "id": "5854f775-120b-42d3-b90b-c1ee2ccbe0f4",
   "metadata": {},
   "outputs": [],
   "source": [
    "mask = (data > 0).astype(np.uint8)\n",
    "final_mask = np.zeros_like(mask)\n",
    "for i in range(data.shape[0]):\n",
    "    final_mask[i, :, :] = binary_fill_holes(mask[i, :, :]).astype(np.uint8)\n",
    "for i in range(data.shape[1]):\n",
    "    final_mask[:, i, :] = binary_fill_holes(final_mask[:, i, :]).astype(np.uint8)\n",
    "for i in range(data.shape[2]):\n",
    "    final_mask[:, :, i] = binary_fill_holes(final_mask[:, :, i]).astype(np.uint8)"
   ]
  },
  {
   "cell_type": "code",
   "execution_count": 40,
   "id": "8a0f22d3",
   "metadata": {},
   "outputs": [
    {
     "data": {
      "text/plain": [
       "<matplotlib.image.AxesImage at 0x179d30090>"
      ]
     },
     "execution_count": 40,
     "metadata": {},
     "output_type": "execute_result"
    },
    {
     "data": {
      "image/png": "[encoded data removed]",
      "text/plain": [
       "<Figure size 640x480 with 1 Axes>"
      ]
     },
     "metadata": {},
     "output_type": "display_data"
    }
   ],
   "source": [
    "plt.imshow(final_mask[:, :, 60], cmap=\"jet\")"
   ]
  },
  {
   "cell_type": "code",
   "execution_count": 41,
   "id": "b3aa6c51",
   "metadata": {},
   "outputs": [
    {
     "name": "stderr",
     "output_type": "stream",
     "text": [
      "INFO:radiomics.featureextractor:Calculating features with label: 1\n",
      "INFO:radiomics.featureextractor:Loading image and mask\n",
      "INFO:radiomics.featureextractor:Computing shape\n",
      "INFO:radiomics.featureextractor:Adding image type \"Original\" with custom settings: {}\n",
      "INFO:radiomics.featureextractor:Calculating features for original image\n",
      "INFO:radiomics.featureextractor:Computing firstorder\n",
      "INFO:radiomics.featureextractor:Computing glcm\n",
      "GLCM is symmetrical, therefore Sum Average = 2 * Joint Average, only 1 needs to be calculated\n",
      "WARNING:radiomics.glcm:GLCM is symmetrical, therefore Sum Average = 2 * Joint Average, only 1 needs to be calculated\n",
      "INFO:radiomics.featureextractor:Computing glrlm\n",
      "INFO:radiomics.featureextractor:Computing glszm\n",
      "INFO:radiomics.featureextractor:Computing gldm\n",
      "INFO:radiomics.featureextractor:Computing ngtdm\n"
     ]
    },
    {
     "data": {
      "text/plain": [
       "OrderedDict([('diagnostics_Versions_PyRadiomics', 'v3.0.1'),\n",
       "             ('diagnostics_Versions_Numpy', '2.1.3'),\n",
       "             ('diagnostics_Versions_SimpleITK', '2.4.0'),\n",
       "             ('diagnostics_Versions_PyWavelet', '1.7.0'),\n",
       "             ('diagnostics_Versions_Python', '3.11.6'),\n",
       "             ('diagnostics_Configuration_Settings',\n",
       "              {'minimumROIDimensions': 2,\n",
       "               'minimumROISize': None,\n",
       "               'normalize': False,\n",
       "               'normalizeScale': 1,\n",
       "               'removeOutliers': None,\n",
       "               'resampledPixelSpacing': None,\n",
       "               'interpolator': 'sitkBSpline',\n",
       "               'preCrop': False,\n",
       "               'padDistance': 5,\n",
       "               'distances': [1],\n",
       "               'force2D': False,\n",
       "               'force2Ddimension': 0,\n",
       "               'resegmentRange': None,\n",
       "               'label': 1,\n",
       "               'additionalInfo': True,\n",
       "               'binWidth': 90,\n",
       "               'weightingNorm': None}),\n",
       "             ('diagnostics_Configuration_EnabledImageTypes', {'Original': {}}),\n",
       "             ('diagnostics_Image-original_Hash',\n",
       "              'eb6391411f533f97a5e5e295bbe830c5320bb65e'),\n",
       "             ('diagnostics_Image-original_Dimensionality', '3D'),\n",
       "             ('diagnostics_Image-original_Spacing', (1.0, 1.0, 1.0)),\n",
       "             ('diagnostics_Image-original_Size', (170, 105, 130)),\n",
       "             ('diagnostics_Image-original_Mean',\n",
       "              np.float64(274.90190081878904)),\n",
       "             ('diagnostics_Image-original_Minimum', np.float64(0.0)),\n",
       "             ('diagnostics_Image-original_Maximum', np.float64(10000.0)),\n",
       "             ('diagnostics_Mask-original_Hash',\n",
       "              '6ef852342f805cc1450e8b05a8373fdb4dbf764c'),\n",
       "             ('diagnostics_Mask-original_Spacing', (1.0, 1.0, 1.0)),\n",
       "             ('diagnostics_Mask-original_Size', (170, 105, 130)),\n",
       "             ('diagnostics_Mask-original_BoundingBox',\n",
       "              (43, 48, 17, 78, 43, 81)),\n",
       "             ('diagnostics_Mask-original_VoxelNum', 139249),\n",
       "             ('diagnostics_Mask-original_VolumeNum', 7),\n",
       "             ('diagnostics_Mask-original_CenterOfMassIndex',\n",
       "              (np.float64(79.98407888027921),\n",
       "               np.float64(69.394322400879),\n",
       "               np.float64(57.805736486437965))),\n",
       "             ('diagnostics_Mask-original_CenterOfMass',\n",
       "              (79.98407888027921, 69.394322400879, 57.805736486437965)),\n",
       "             ('original_shape_Elongation', np.float64(0.6793398241541202)),\n",
       "             ('original_shape_Flatness', np.float64(0.4818592518980972)),\n",
       "             ('original_shape_LeastAxisLength', np.float64(40.53577715482763)),\n",
       "             ('original_shape_MajorAxisLength', np.float64(84.12368756053286)),\n",
       "             ('original_shape_Maximum2DDiameterColumn', array(92.45539465)),\n",
       "             ('original_shape_Maximum2DDiameterRow', array(75.23961722)),\n",
       "             ('original_shape_Maximum2DDiameterSlice', array(75.32595834)),\n",
       "             ('original_shape_Maximum3DDiameter', array(92.50405397)),\n",
       "             ('original_shape_MeshVolume', array(138920.04166667)),\n",
       "             ('original_shape_MinorAxisLength', np.float64(57.14857111456853)),\n",
       "             ('original_shape_Sphericity', array(0.65819352)),\n",
       "             ('original_shape_SurfaceArea', array(19707.90495536)),\n",
       "             ('original_shape_SurfaceVolumeRatio', array(0.1418651)),\n",
       "             ('original_shape_VoxelVolume', np.float64(139249.0)),\n",
       "             ('original_firstorder_10Percentile', array(0.)),\n",
       "             ('original_firstorder_90Percentile', array(10000.)),\n",
       "             ('original_firstorder_Energy', array(5.28563599e+12)),\n",
       "             ('original_firstorder_Entropy', array(4.89076483)),\n",
       "             ('original_firstorder_InterquartileRange', array(9495.1)),\n",
       "             ('original_firstorder_Kurtosis', array(1.37322175)),\n",
       "             ('original_firstorder_Maximum', array(10000.)),\n",
       "             ('original_firstorder_MeanAbsoluteDeviation',\n",
       "              array(3798.47262693)),\n",
       "             ('original_firstorder_Mean', array(4581.07319155)),\n",
       "             ('original_firstorder_Median', array(3229.98)),\n",
       "             ('original_firstorder_Minimum', array(0.)),\n",
       "             ('original_firstorder_Range', array(10000.)),\n",
       "             ('original_firstorder_RobustMeanAbsoluteDeviation',\n",
       "              array(3798.47262693)),\n",
       "             ('original_firstorder_RootMeanSquared', array(6161.01949304)),\n",
       "             ('original_firstorder_Skewness', array(0.28824348)),\n",
       "             ('original_firstorder_TotalEnergy', array(5.28563599e+12)),\n",
       "             ('original_firstorder_Uniformity', array(0.11793457)),\n",
       "             ('original_firstorder_Variance', array(16971929.60722932)),\n",
       "             ('original_glcm_Autocorrelation', array(3513.10002272)),\n",
       "             ('original_glcm_ClusterProminence', array(60715674.61214875)),\n",
       "             ('original_glcm_ClusterShade', array(112289.94989563)),\n",
       "             ('original_glcm_ClusterTendency', array(5880.45249459)),\n",
       "             ('original_glcm_Contrast', array(2480.67021725)),\n",
       "             ('original_glcm_Correlation', array(0.40656545)),\n",
       "             ('original_glcm_DifferenceAverage', array(32.26447199)),\n",
       "             ('original_glcm_DifferenceEntropy', array(5.48313786)),\n",
       "             ('original_glcm_DifferenceVariance', array(1420.33599284)),\n",
       "             ('original_glcm_Id', array(0.30369815)),\n",
       "             ('original_glcm_Idm', array(0.26762309)),\n",
       "             ('original_glcm_Idmn', array(0.88058527)),\n",
       "             ('original_glcm_Idn', array(0.82262323)),\n",
       "             ('original_glcm_Imc1', array(-0.07156156)),\n",
       "             ('original_glcm_Imc2', array(0.68062208)),\n",
       "             ('original_glcm_InverseVariance', array(0.05226614)),\n",
       "             ('original_glcm_JointAverage', array(51.60568829)),\n",
       "             ('original_glcm_JointEnergy', array(0.03167862)),\n",
       "             ('original_glcm_JointEntropy', array(9.47387065)),\n",
       "             ('original_glcm_MCC', array(0.46993384)),\n",
       "             ('original_glcm_MaximumProbability', array(0.14889308)),\n",
       "             ('original_glcm_SumAverage', array(103.21137658)),\n",
       "             ('original_glcm_SumEntropy', array(6.63131709)),\n",
       "             ('original_glcm_SumSquares', array(2090.28067796)),\n",
       "             ('original_glrlm_GrayLevelNonUniformity', array(6551.23831184)),\n",
       "             ('original_glrlm_GrayLevelNonUniformityNormalized',\n",
       "              array(0.06037032)),\n",
       "             ('original_glrlm_GrayLevelVariance', array(1743.6789457)),\n",
       "             ('original_glrlm_HighGrayLevelRunEmphasis', array(3830.34549041)),\n",
       "             ('original_glrlm_LongRunEmphasis', array(2.55000501)),\n",
       "             ('original_glrlm_LongRunHighGrayLevelEmphasis',\n",
       "              array(17130.01247041)),\n",
       "             ('original_glrlm_LongRunLowGrayLevelEmphasis', array(0.58152052)),\n",
       "             ('original_glrlm_LowGrayLevelRunEmphasis', array(0.14375784)),\n",
       "             ('original_glrlm_RunEntropy', array(6.27577739)),\n",
       "             ('original_glrlm_RunLengthNonUniformity', array(78192.28446718)),\n",
       "             ('original_glrlm_RunLengthNonUniformityNormalized',\n",
       "              array(0.72423206)),\n",
       "             ('original_glrlm_RunPercentage', array(0.77430303)),\n",
       "             ('original_glrlm_RunVariance', array(0.86910788)),\n",
       "             ('original_glrlm_ShortRunEmphasis', array(0.8728498)),\n",
       "             ('original_glrlm_ShortRunHighGrayLevelEmphasis',\n",
       "              array(2914.01787836)),\n",
       "             ('original_glrlm_ShortRunLowGrayLevelEmphasis',\n",
       "              array(0.10087108)),\n",
       "             ('original_glszm_GrayLevelNonUniformity', array(653.46762252)),\n",
       "             ('original_glszm_GrayLevelNonUniformityNormalized',\n",
       "              array(0.01138426)),\n",
       "             ('original_glszm_GrayLevelVariance', array(877.25581447)),\n",
       "             ('original_glszm_HighGrayLevelZoneEmphasis',\n",
       "              array(2547.55309141)),\n",
       "             ('original_glszm_LargeAreaEmphasis', array(36635.42096828)),\n",
       "             ('original_glszm_LargeAreaHighGrayLevelEmphasis',\n",
       "              array(3.47152301e+08)),\n",
       "             ('original_glszm_LargeAreaLowGrayLevelEmphasis',\n",
       "              array(8957.79781625)),\n",
       "             ('original_glszm_LowGrayLevelZoneEmphasis', array(0.01472494)),\n",
       "             ('original_glszm_SizeZoneNonUniformity', array(40854.32548213)),\n",
       "             ('original_glszm_SizeZoneNonUniformityNormalized',\n",
       "              array(0.71173543)),\n",
       "             ('original_glszm_SmallAreaEmphasis', array(0.86753508)),\n",
       "             ('original_glszm_SmallAreaHighGrayLevelEmphasis',\n",
       "              array(2379.29457927)),\n",
       "             ('original_glszm_SmallAreaLowGrayLevelEmphasis',\n",
       "              array(0.00933815)),\n",
       "             ('original_glszm_ZoneEntropy', array(7.45511928)),\n",
       "             ('original_glszm_ZonePercentage', array(0.4122184)),\n",
       "             ('original_glszm_ZoneVariance', array(36629.53598473)),\n",
       "             ('original_gldm_DependenceEntropy', array(7.69093992)),\n",
       "             ('original_gldm_DependenceNonUniformity', array(20614.50148295)),\n",
       "             ('original_gldm_DependenceNonUniformityNormalized',\n",
       "              array(0.14804057)),\n",
       "             ('original_gldm_DependenceVariance', array(48.66886065)),\n",
       "             ('original_gldm_GrayLevelNonUniformity', array(16422.27142026)),\n",
       "             ('original_gldm_GrayLevelVariance', array(2101.35215749)),\n",
       "             ('original_gldm_HighGrayLevelEmphasis', array(4762.76325144)),\n",
       "             ('original_gldm_LargeDependenceEmphasis', array(95.83994858)),\n",
       "             ('original_gldm_LargeDependenceHighGrayLevelEmphasis',\n",
       "              array(827299.77551006)),\n",
       "             ('original_gldm_LargeDependenceLowGrayLevelEmphasis',\n",
       "              array(27.87665279)),\n",
       "             ('original_gldm_LowGrayLevelEmphasis', array(0.18236989)),\n",
       "             ('original_gldm_SmallDependenceEmphasis', array(0.38742012)),\n",
       "             ('original_gldm_SmallDependenceHighGrayLevelEmphasis',\n",
       "              array(1051.17680177)),\n",
       "             ('original_gldm_SmallDependenceLowGrayLevelEmphasis',\n",
       "              array(0.0077347)),\n",
       "             ('original_ngtdm_Busyness', array(78.39155104)),\n",
       "             ('original_ngtdm_Coarseness', array(1.68561814e-06)),\n",
       "             ('original_ngtdm_Complexity', array(259749.02334086)),\n",
       "             ('original_ngtdm_Contrast', array(8.94092752)),\n",
       "             ('original_ngtdm_Strength', array(0.19284984))])"
      ]
     },
     "execution_count": 41,
     "metadata": {},
     "output_type": "execute_result"
    }
   ],
   "source": [
    "import logging\n",
    "logging.basicConfig(level=logging.DEBUG)\n",
    "\n",
    "extractor.execute(sitk.GetImageFromArray(data), sitk.GetImageFromArray(final_mask))"
   ]
  }
 ],
 "metadata": {
  "kernelspec": {
   "display_name": "QuantUS-env",
   "language": "python",
   "name": "python3"
  },
  "language_info": {
   "codemirror_mode": {
    "name": "ipython",
    "version": 3
   },
   "file_extension": ".py",
   "mimetype": "text/x-python",
   "name": "python",
   "nbconvert_exporter": "python",
   "pygments_lexer": "ipython3",
   "version": "3.11.6"
  }
 },
 "nbformat": 4,
 "nbformat_minor": 5
}
