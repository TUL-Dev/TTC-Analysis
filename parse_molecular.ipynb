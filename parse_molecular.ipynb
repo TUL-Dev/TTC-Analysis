{
 "cells": [
  {
   "cell_type": "code",
   "execution_count": 1,
   "metadata": {},
   "outputs": [
    {
     "data": {
      "text/plain": [
       "PosixPath('/home/das/QuantUS_Projs/TTC-Analysis')"
      ]
     },
     "execution_count": 1,
     "metadata": {},
     "output_type": "execute_result"
    }
   ],
   "source": [
    "import os\n",
    "from pathlib import Path\n",
    "\n",
    "Path.cwd()"
   ]
  },
  {
   "cell_type": "code",
   "execution_count": 2,
   "metadata": {},
   "outputs": [],
   "source": [
    "os.chdir(Path.cwd().parent / 'QuantUS', )"
   ]
  },
  {
   "cell_type": "code",
   "execution_count": 3,
   "metadata": {},
   "outputs": [
    {
     "data": {
      "text/plain": [
       "PosixPath('/home/das/QuantUS_Projs/QuantUS')"
      ]
     },
     "execution_count": 3,
     "metadata": {},
     "output_type": "execute_result"
    }
   ],
   "source": [
    "Path.cwd()"
   ]
  },
  {
   "cell_type": "code",
   "execution_count": 8,
   "metadata": {},
   "outputs": [],
   "source": [
    "from src.Utils.utils import xml2nifti"
   ]
  },
  {
   "cell_type": "code",
   "execution_count": null,
   "metadata": {},
   "outputs": [],
   "source": [
    "paths = [\n",
    "    Path('/home/das/Downloads/Molecular/m933/20150629140221.830 kdr'),\n",
    "    Path('/home/das/Downloads/Molecular/m933/20150630164709.801 kdr'),\n",
    "    \n",
    "]"
   ]
  },
  {
   "cell_type": "code",
   "execution_count": 22,
   "metadata": {},
   "outputs": [
    {
     "name": "stderr",
     "output_type": "stream",
     "text": [
      "0it [00:00, ?it/s]"
     ]
    },
    {
     "name": "stdout",
     "output_type": "stream",
     "text": [
      "Started xml2nii:\n",
      "/home/das/Downloads/Molecular/m946/20150723150109.158 kdr\n",
      "2025-02-09 23:36:04.498625\n",
      "Orginal image volume size (132, 239, 128)\n",
      "Reduced image volume size (112, 203, 128)\n",
      "Done 3D to 4D:\n",
      "2025-02-09 23:36:05.873381\n",
      "Saving cleaned up 4D:\n",
      "2025-02-09 23:36:07.106963\n",
      "Started xml2nii:\n",
      "/home/das/Downloads/Molecular/m946/20150724143836.713 kdr\n",
      "2025-02-09 23:36:42.617949\n",
      "Orginal image volume size (122, 240, 144)\n",
      "Reduced image volume size (114, 184, 144)\n",
      "Done 3D to 4D:\n",
      "2025-02-09 23:36:43.981382\n",
      "Saving cleaned up 4D:\n",
      "2025-02-09 23:36:45.229016\n"
     ]
    },
    {
     "name": "stderr",
     "output_type": "stream",
     "text": [
      "2it [01:16, 38.42s/it]"
     ]
    },
    {
     "name": "stdout",
     "output_type": "stream",
     "text": [
      "Started xml2nii:\n",
      "/home/das/Downloads/Molecular/m947/20150723153320.579 kdr\n",
      "2025-02-09 23:37:21.338271\n",
      "Orginal image volume size (134, 232, 128)\n",
      "Reduced image volume size (122, 215, 128)\n",
      "Done 3D to 4D:\n",
      "2025-02-09 23:37:22.782234\n",
      "Saving cleaned up 4D:\n",
      "2025-02-09 23:37:24.243290\n",
      "Started xml2nii:\n",
      "/home/das/Downloads/Molecular/m947/20150724151358.350 kdr\n",
      "2025-02-09 23:38:05.316124\n",
      "Orginal image volume size (130, 237, 128)\n",
      "Reduced image volume size (120, 210, 128)\n",
      "Done 3D to 4D:\n",
      "2025-02-09 23:38:06.710176\n",
      "Saving cleaned up 4D:\n",
      "2025-02-09 23:38:08.063876\n"
     ]
    },
    {
     "name": "stderr",
     "output_type": "stream",
     "text": [
      "5it [02:45, 32.26s/it]"
     ]
    },
    {
     "name": "stdout",
     "output_type": "stream",
     "text": [
      "Started xml2nii:\n",
      "/home/das/Downloads/Molecular/m935/20150629144443.106 kdr\n",
      "2025-02-09 23:38:49.503856\n",
      "Orginal image volume size (167, 247, 112)\n",
      "Reduced image volume size (150, 227, 112)\n",
      "Done 3D to 4D:\n",
      "2025-02-09 23:38:51.522253\n",
      "Saving cleaned up 4D:\n",
      "2025-02-09 23:38:53.630446\n",
      "Started xml2nii:\n",
      "/home/das/Downloads/Molecular/m935/20150630155939.152 kdr\n",
      "2025-02-09 23:39:52.423424\n",
      "Orginal image volume size (133, 265, 144)\n",
      "Reduced image volume size (121, 219, 144)\n",
      "Done 3D to 4D:\n",
      "2025-02-09 23:39:54.181779\n",
      "Saving cleaned up 4D:\n",
      "2025-02-09 23:39:56.051944\n"
     ]
    },
    {
     "name": "stderr",
     "output_type": "stream",
     "text": [
      "6it [04:40, 52.63s/it]"
     ]
    },
    {
     "name": "stdout",
     "output_type": "stream",
     "text": [
      "Started xml2nii:\n",
      "/home/das/Downloads/Molecular/m939/20150629180858.080 kdr\n",
      "2025-02-09 23:40:44.883459\n",
      "Orginal image volume size (161, 251, 160)\n",
      "Reduced image volume size (145, 229, 160)\n",
      "Done 3D to 4D:\n",
      "2025-02-09 23:40:47.925911\n",
      "Saving cleaned up 4D:\n",
      "2025-02-09 23:40:51.014241\n",
      "Started xml2nii:\n",
      "/home/das/Downloads/Molecular/m939/20150630101428.559 kdr\n",
      "2025-02-09 23:41:54.591752\n",
      "Orginal image volume size (155, 254, 128)\n",
      "Reduced image volume size (143, 219, 128)\n",
      "Done 3D to 4D:\n",
      "2025-02-09 23:41:56.605552\n",
      "Saving cleaned up 4D:\n",
      "2025-02-09 23:41:59.106070\n"
     ]
    },
    {
     "name": "stderr",
     "output_type": "stream",
     "text": [
      "7it [06:49, 72.40s/it]"
     ]
    },
    {
     "name": "stdout",
     "output_type": "stream",
     "text": [
      "Started xml2nii:\n",
      "/home/das/Downloads/Molecular/m933/20150629140221.830 kdr\n",
      "2025-02-09 23:42:53.749808\n",
      "Orginal image volume size (157, 238, 112)\n",
      "Reduced image volume size (140, 238, 112)\n",
      "Done 3D to 4D:\n",
      "2025-02-09 23:42:57.158870\n",
      "Saving cleaned up 4D:\n",
      "2025-02-09 23:43:00.970884\n",
      "Started xml2nii:\n",
      "/home/das/Downloads/Molecular/m933/20150630164709.801 kdr\n",
      "2025-02-09 23:44:06.843340\n",
      "Orginal image volume size (161, 257, 112)\n",
      "Reduced image volume size (150, 257, 112)\n",
      "Done 3D to 4D:\n",
      "2025-02-09 23:44:08.954341\n",
      "Saving cleaned up 4D:\n",
      "2025-02-09 23:44:12.238944\n"
     ]
    },
    {
     "name": "stderr",
     "output_type": "stream",
     "text": [
      "8it [09:09, 90.84s/it]"
     ]
    },
    {
     "name": "stdout",
     "output_type": "stream",
     "text": [
      "Started xml2nii:\n",
      "/home/das/Downloads/Molecular/m948/20150723162150.657 kdr\n",
      "2025-02-09 23:45:14.354780\n",
      "Orginal image volume size (142, 228, 112)\n",
      "Reduced image volume size (135, 197, 112)\n",
      "Done 3D to 4D:\n",
      "2025-02-09 23:45:15.986760\n",
      "Saving cleaned up 4D:\n",
      "2025-02-09 23:45:17.777932\n",
      "Started xml2nii:\n",
      "/home/das/Downloads/Molecular/m948/20150724161337.243 kdr\n",
      "2025-02-09 23:46:00.937408\n",
      "Orginal image volume size (140, 232, 96)\n",
      "Reduced image volume size (131, 217, 96)\n",
      "Done 3D to 4D:\n",
      "2025-02-09 23:46:02.447856\n",
      "Saving cleaned up 4D:\n",
      "2025-02-09 23:46:04.391532\n"
     ]
    },
    {
     "name": "stderr",
     "output_type": "stream",
     "text": [
      "9it [10:38, 90.16s/it]"
     ]
    },
    {
     "name": "stdout",
     "output_type": "stream",
     "text": [
      "Started xml2nii:\n",
      "/home/das/Downloads/Molecular/m943/20150723115408.789 kdr\n",
      "2025-02-09 23:46:42.753241\n",
      "Orginal image volume size (137, 235, 112)\n",
      "Reduced image volume size (126, 188, 112)\n",
      "Done 3D to 4D:\n",
      "2025-02-09 23:46:44.383146\n",
      "Saving cleaned up 4D:\n",
      "2025-02-09 23:46:46.249901\n",
      "Started xml2nii:\n",
      "/home/das/Downloads/Molecular/m943/20150724112748.802 kdr\n",
      "2025-02-09 23:47:22.021425\n",
      "Orginal image volume size (135, 217, 112)\n",
      "Reduced image volume size (132, 194, 112)\n",
      "Done 3D to 4D:\n",
      "2025-02-09 23:47:24.393467\n",
      "Saving cleaned up 4D:\n",
      "2025-02-09 23:47:26.914803\n"
     ]
    },
    {
     "name": "stderr",
     "output_type": "stream",
     "text": [
      "10it [12:07, 90.04s/it]"
     ]
    },
    {
     "name": "stdout",
     "output_type": "stream",
     "text": [
      "Started xml2nii:\n",
      "/home/das/Downloads/Molecular/m940/20150629185530.116 kdr\n",
      "2025-02-09 23:48:12.504780\n",
      "Orginal image volume size (170, 243, 112)\n",
      "Reduced image volume size (156, 233, 112)\n",
      "Done 3D to 4D:\n",
      "2025-02-09 23:48:15.571369\n",
      "Saving cleaned up 4D:\n",
      "2025-02-09 23:48:18.781356\n",
      "Started xml2nii:\n",
      "/home/das/Downloads/Molecular/m940/20150630151724.806 kdr\n",
      "2025-02-09 23:49:22.298313\n",
      "Orginal image volume size (143, 267, 128)\n",
      "Reduced image volume size (127, 215, 128)\n",
      "Done 3D to 4D:\n",
      "2025-02-09 23:49:23.975262\n",
      "Saving cleaned up 4D:\n",
      "2025-02-09 23:49:25.919464\n"
     ]
    },
    {
     "name": "stderr",
     "output_type": "stream",
     "text": [
      "11it [14:08, 77.11s/it]\n"
     ]
    }
   ],
   "source": [
    "molecular_path = Path('/home/das/Downloads/Molecular')\n",
    "\n",
    "from tqdm import tqdm\n",
    "\n",
    "for path in tqdm(molecular_path.iterdir()):\n",
    "    if path.is_dir() and not path.name in ['m904', 'm907', 'm908']:\n",
    "        scans = [p.name for p in path.iterdir()]\n",
    "        scans.sort(key=lambda x: x[:10])\n",
    "        for i in range(2):\n",
    "            folder_path = path / scans[i]\n",
    "            dest_path = folder_path.parent\n",
    "            xml2nifti(str(folder_path), str(dest_path))"
   ]
  },
  {
   "cell_type": "code",
   "execution_count": 21,
   "metadata": {},
   "outputs": [
    {
     "data": {
      "text/plain": [
       "['20150723150109.158 kdr',\n",
       " '20150724143836.713 kdr',\n",
       " '20150726164410.111 kdr',\n",
       " '20150730123820.781 kdr',\n",
       " '20150802111340.752 kdr']"
      ]
     },
     "execution_count": 21,
     "metadata": {},
     "output_type": "execute_result"
    }
   ],
   "source": [
    "scans"
   ]
  },
  {
   "cell_type": "code",
   "execution_count": 17,
   "metadata": {},
   "outputs": [],
   "source": [
    "folder_path = Path('/home/das/Downloads/Molecular/m908/20150411163832.875 KDR2')\n",
    "dest_path = folder_path.parent"
   ]
  },
  {
   "cell_type": "code",
   "execution_count": 18,
   "metadata": {},
   "outputs": [
    {
     "name": "stdout",
     "output_type": "stream",
     "text": [
      "Started xml2nii:\n",
      "/home/das/Downloads/Molecular/m908/20150411163832.875 KDR2\n",
      "2025-02-09 23:28:34.342711\n",
      "Orginal image volume size (248, 430, 256)\n",
      "Reduced image volume size (236, 414, 256)\n",
      "Done 3D to 4D:\n",
      "2025-02-09 23:28:43.610871\n",
      "Saving cleaned up 4D:\n",
      "2025-02-09 23:28:56.166435\n"
     ]
    },
    {
     "data": {
      "text/plain": [
       "'/home/das/Downloads/Molecular/m908/20150411163832.875 KDR2.nii.gz'"
      ]
     },
     "execution_count": 18,
     "metadata": {},
     "output_type": "execute_result"
    }
   ],
   "source": [
    "xml2nifti(str(folder_path), str(dest_path))"
   ]
  },
  {
   "cell_type": "markdown",
   "metadata": {},
   "source": []
  }
 ],
 "metadata": {
  "kernelspec": {
   "display_name": ".venv",
   "language": "python",
   "name": "python3"
  },
  "language_info": {
   "codemirror_mode": {
    "name": "ipython",
    "version": 3
   },
   "file_extension": ".py",
   "mimetype": "text/x-python",
   "name": "python",
   "nbconvert_exporter": "python",
   "pygments_lexer": "ipython3",
   "version": "3.11.0rc1"
  }
 },
 "nbformat": 4,
 "nbformat_minor": 2
}
